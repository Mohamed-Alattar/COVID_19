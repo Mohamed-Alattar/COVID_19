{
 "cells": [
  {
   "cell_type": "code",
   "execution_count": 40,
   "id": "9788c964",
   "metadata": {},
   "outputs": [],
   "source": [
    "import pandas as pd\n",
    "import plotly.express as px\n",
    "import datashader as ds\n",
    "import datashader.transfer_functions as tf\n",
    "import colorcet as cc\n",
    "from colorcet import fire, kbc, bmw, gray"
   ]
  },
  {
   "cell_type": "code",
   "execution_count": 5,
   "id": "c8e205db",
   "metadata": {},
   "outputs": [
    {
     "data": {
      "text/html": [
       "<div>\n",
       "<style scoped>\n",
       "    .dataframe tbody tr th:only-of-type {\n",
       "        vertical-align: middle;\n",
       "    }\n",
       "\n",
       "    .dataframe tbody tr th {\n",
       "        vertical-align: top;\n",
       "    }\n",
       "\n",
       "    .dataframe thead th {\n",
       "        text-align: right;\n",
       "    }\n",
       "</style>\n",
       "<table border=\"1\" class=\"dataframe\">\n",
       "  <thead>\n",
       "    <tr style=\"text-align: right;\">\n",
       "      <th></th>\n",
       "      <th>Province/State</th>\n",
       "      <th>Country/Region</th>\n",
       "      <th>Lat</th>\n",
       "      <th>Long</th>\n",
       "      <th>Date</th>\n",
       "      <th>Confirmed</th>\n",
       "      <th>Deaths</th>\n",
       "      <th>Recovered</th>\n",
       "      <th>Active</th>\n",
       "    </tr>\n",
       "  </thead>\n",
       "  <tbody>\n",
       "    <tr>\n",
       "      <th>0</th>\n",
       "      <td>NaN</td>\n",
       "      <td>Afghanistan</td>\n",
       "      <td>33.939110</td>\n",
       "      <td>67.709953</td>\n",
       "      <td>2020-01-22</td>\n",
       "      <td>0</td>\n",
       "      <td>0</td>\n",
       "      <td>0</td>\n",
       "      <td>0</td>\n",
       "    </tr>\n",
       "    <tr>\n",
       "      <th>1</th>\n",
       "      <td>NaN</td>\n",
       "      <td>Albania</td>\n",
       "      <td>41.153300</td>\n",
       "      <td>20.168300</td>\n",
       "      <td>2020-01-22</td>\n",
       "      <td>0</td>\n",
       "      <td>0</td>\n",
       "      <td>0</td>\n",
       "      <td>0</td>\n",
       "    </tr>\n",
       "    <tr>\n",
       "      <th>2</th>\n",
       "      <td>NaN</td>\n",
       "      <td>Algeria</td>\n",
       "      <td>28.033900</td>\n",
       "      <td>1.659600</td>\n",
       "      <td>2020-01-22</td>\n",
       "      <td>0</td>\n",
       "      <td>0</td>\n",
       "      <td>0</td>\n",
       "      <td>0</td>\n",
       "    </tr>\n",
       "    <tr>\n",
       "      <th>3</th>\n",
       "      <td>NaN</td>\n",
       "      <td>Andorra</td>\n",
       "      <td>42.506300</td>\n",
       "      <td>1.521800</td>\n",
       "      <td>2020-01-22</td>\n",
       "      <td>0</td>\n",
       "      <td>0</td>\n",
       "      <td>0</td>\n",
       "      <td>0</td>\n",
       "    </tr>\n",
       "    <tr>\n",
       "      <th>4</th>\n",
       "      <td>NaN</td>\n",
       "      <td>Angola</td>\n",
       "      <td>-11.202700</td>\n",
       "      <td>17.873900</td>\n",
       "      <td>2020-01-22</td>\n",
       "      <td>0</td>\n",
       "      <td>0</td>\n",
       "      <td>0</td>\n",
       "      <td>0</td>\n",
       "    </tr>\n",
       "    <tr>\n",
       "      <th>...</th>\n",
       "      <td>...</td>\n",
       "      <td>...</td>\n",
       "      <td>...</td>\n",
       "      <td>...</td>\n",
       "      <td>...</td>\n",
       "      <td>...</td>\n",
       "      <td>...</td>\n",
       "      <td>...</td>\n",
       "      <td>...</td>\n",
       "    </tr>\n",
       "    <tr>\n",
       "      <th>313310</th>\n",
       "      <td>NaN</td>\n",
       "      <td>Vietnam</td>\n",
       "      <td>14.058324</td>\n",
       "      <td>108.277199</td>\n",
       "      <td>2023-02-09</td>\n",
       "      <td>11526627</td>\n",
       "      <td>43186</td>\n",
       "      <td>0</td>\n",
       "      <td>11483441</td>\n",
       "    </tr>\n",
       "    <tr>\n",
       "      <th>313311</th>\n",
       "      <td>NaN</td>\n",
       "      <td>West Bank and Gaza</td>\n",
       "      <td>31.952200</td>\n",
       "      <td>35.233200</td>\n",
       "      <td>2023-02-09</td>\n",
       "      <td>703228</td>\n",
       "      <td>5708</td>\n",
       "      <td>0</td>\n",
       "      <td>697520</td>\n",
       "    </tr>\n",
       "    <tr>\n",
       "      <th>313312</th>\n",
       "      <td>NaN</td>\n",
       "      <td>Yemen</td>\n",
       "      <td>15.552727</td>\n",
       "      <td>48.516388</td>\n",
       "      <td>2023-02-09</td>\n",
       "      <td>11945</td>\n",
       "      <td>2159</td>\n",
       "      <td>0</td>\n",
       "      <td>9786</td>\n",
       "    </tr>\n",
       "    <tr>\n",
       "      <th>313313</th>\n",
       "      <td>NaN</td>\n",
       "      <td>Zambia</td>\n",
       "      <td>-13.133897</td>\n",
       "      <td>27.849332</td>\n",
       "      <td>2023-02-09</td>\n",
       "      <td>342114</td>\n",
       "      <td>4050</td>\n",
       "      <td>0</td>\n",
       "      <td>338064</td>\n",
       "    </tr>\n",
       "    <tr>\n",
       "      <th>313314</th>\n",
       "      <td>NaN</td>\n",
       "      <td>Zimbabwe</td>\n",
       "      <td>-19.015438</td>\n",
       "      <td>29.154857</td>\n",
       "      <td>2023-02-09</td>\n",
       "      <td>263083</td>\n",
       "      <td>5659</td>\n",
       "      <td>0</td>\n",
       "      <td>257424</td>\n",
       "    </tr>\n",
       "  </tbody>\n",
       "</table>\n",
       "<p>313315 rows × 9 columns</p>\n",
       "</div>"
      ],
      "text/plain": [
       "       Province/State      Country/Region  ...  Recovered    Active\n",
       "0                 NaN         Afghanistan  ...          0         0\n",
       "1                 NaN             Albania  ...          0         0\n",
       "2                 NaN             Algeria  ...          0         0\n",
       "3                 NaN             Andorra  ...          0         0\n",
       "4                 NaN              Angola  ...          0         0\n",
       "...               ...                 ...  ...        ...       ...\n",
       "313310            NaN             Vietnam  ...          0  11483441\n",
       "313311            NaN  West Bank and Gaza  ...          0    697520\n",
       "313312            NaN               Yemen  ...          0      9786\n",
       "313313            NaN              Zambia  ...          0    338064\n",
       "313314            NaN            Zimbabwe  ...          0    257424\n",
       "\n",
       "[313315 rows x 9 columns]"
      ]
     },
     "execution_count": 5,
     "metadata": {},
     "output_type": "execute_result"
    }
   ],
   "source": [
    "df = pd.read_csv('/Users/mohamedalattar/Desktop/Covid_project/covid_19_clean_complete.csv')\n",
    "df"
   ]
  },
  {
   "cell_type": "code",
   "execution_count": 6,
   "id": "b4008d11",
   "metadata": {},
   "outputs": [
    {
     "name": "stdout",
     "output_type": "stream",
     "text": [
      "<class 'pandas.core.frame.DataFrame'>\n",
      "RangeIndex: 313315 entries, 0 to 313314\n",
      "Data columns (total 9 columns):\n",
      " #   Column          Non-Null Count   Dtype  \n",
      "---  ------          --------------   -----  \n",
      " 0   Province/State  97005 non-null   object \n",
      " 1   Country/Region  313315 non-null  object \n",
      " 2   Lat             313315 non-null  float64\n",
      " 3   Long            313315 non-null  float64\n",
      " 4   Date            313315 non-null  object \n",
      " 5   Confirmed       313315 non-null  int64  \n",
      " 6   Deaths          313315 non-null  int64  \n",
      " 7   Recovered       313315 non-null  int64  \n",
      " 8   Active          313315 non-null  int64  \n",
      "dtypes: float64(2), int64(4), object(3)\n",
      "memory usage: 21.5+ MB\n"
     ]
    }
   ],
   "source": [
    "df.info()"
   ]
  },
  {
   "cell_type": "code",
   "execution_count": 30,
   "id": "1704e948",
   "metadata": {},
   "outputs": [
    {
     "name": "stdout",
     "output_type": "stream",
     "text": [
      "<class 'pandas.core.frame.DataFrame'>\n",
      "RangeIndex: 279 entries, 0 to 278\n",
      "Data columns (total 4 columns):\n",
      " #   Column          Non-Null Count  Dtype  \n",
      "---  ------          --------------  -----  \n",
      " 0   Country/Region  279 non-null    object \n",
      " 1   Lat             279 non-null    float64\n",
      " 2   Long            279 non-null    float64\n",
      " 3   Confirmed       279 non-null    int64  \n",
      "dtypes: float64(2), int64(1), object(1)\n",
      "memory usage: 8.8+ KB\n"
     ]
    },
    {
     "data": {
      "text/html": [
       "<div>\n",
       "<style scoped>\n",
       "    .dataframe tbody tr th:only-of-type {\n",
       "        vertical-align: middle;\n",
       "    }\n",
       "\n",
       "    .dataframe tbody tr th {\n",
       "        vertical-align: top;\n",
       "    }\n",
       "\n",
       "    .dataframe thead th {\n",
       "        text-align: right;\n",
       "    }\n",
       "</style>\n",
       "<table border=\"1\" class=\"dataframe\">\n",
       "  <thead>\n",
       "    <tr style=\"text-align: right;\">\n",
       "      <th></th>\n",
       "      <th>Country/Region</th>\n",
       "      <th>Lat</th>\n",
       "      <th>Long</th>\n",
       "      <th>Confirmed</th>\n",
       "    </tr>\n",
       "  </thead>\n",
       "  <tbody>\n",
       "    <tr>\n",
       "      <th>0</th>\n",
       "      <td>Afghanistan</td>\n",
       "      <td>33.93911</td>\n",
       "      <td>67.709953</td>\n",
       "      <td>124130451</td>\n",
       "    </tr>\n",
       "    <tr>\n",
       "      <th>1</th>\n",
       "      <td>Albania</td>\n",
       "      <td>41.15330</td>\n",
       "      <td>20.168300</td>\n",
       "      <td>176200909</td>\n",
       "    </tr>\n",
       "    <tr>\n",
       "      <th>2</th>\n",
       "      <td>Algeria</td>\n",
       "      <td>28.03390</td>\n",
       "      <td>1.659600</td>\n",
       "      <td>175141293</td>\n",
       "    </tr>\n",
       "    <tr>\n",
       "      <th>3</th>\n",
       "      <td>Andorra</td>\n",
       "      <td>42.50630</td>\n",
       "      <td>1.521800</td>\n",
       "      <td>23207202</td>\n",
       "    </tr>\n",
       "    <tr>\n",
       "      <th>4</th>\n",
       "      <td>Angola</td>\n",
       "      <td>-11.20270</td>\n",
       "      <td>17.873900</td>\n",
       "      <td>57078945</td>\n",
       "    </tr>\n",
       "  </tbody>\n",
       "</table>\n",
       "</div>"
      ],
      "text/plain": [
       "  Country/Region       Lat       Long  Confirmed\n",
       "0    Afghanistan  33.93911  67.709953  124130451\n",
       "1        Albania  41.15330  20.168300  176200909\n",
       "2        Algeria  28.03390   1.659600  175141293\n",
       "3        Andorra  42.50630   1.521800   23207202\n",
       "4         Angola -11.20270  17.873900   57078945"
      ]
     },
     "execution_count": 30,
     "metadata": {},
     "output_type": "execute_result"
    }
   ],
   "source": [
    "dff = df.groupby(['Country/Region','Lat', 'Long'])['Confirmed'].sum().reset_index()\n",
    "dff.info()\n",
    "dff.head()"
   ]
  },
  {
   "cell_type": "code",
   "execution_count": 21,
   "id": "d6b770d2",
   "metadata": {},
   "outputs": [],
   "source": [
    "cvs = ds.Canvas(plot_width=1000, plot_height=1000)"
   ]
  },
  {
   "cell_type": "code",
   "execution_count": 34,
   "id": "f3996c5b",
   "metadata": {},
   "outputs": [],
   "source": [
    "aggs = cvs.points(dff, 'Long', 'Lat',ds.sum('Confirmed'))"
   ]
  },
  {
   "cell_type": "code",
   "execution_count": 35,
   "id": "b21e2bb6",
   "metadata": {},
   "outputs": [],
   "source": [
    "coords_lat, coords_lon = aggs.coords['Lat'].values, aggs.coords['Long'].values"
   ]
  },
  {
   "cell_type": "code",
   "execution_count": 36,
   "id": "fb5134bf",
   "metadata": {},
   "outputs": [],
   "source": [
    "coordinates = [\n",
    "    [coords_lon[0], coords_lat[0]],\n",
    "    [coords_lon[-1], coords_lat[0]],\n",
    "    [coords_lon[-1], coords_lat[-1]],\n",
    "    [coords_lon[0], coords_lat[-1]]\n",
    "]"
   ]
  },
  {
   "cell_type": "code",
   "execution_count": 44,
   "id": "918806f6",
   "metadata": {},
   "outputs": [],
   "source": [
    "img  = tf.shade(aggs, cmap=fire, how='eq_hist', alpha=255)[::-1].to_pil()"
   ]
  },
  {
   "cell_type": "code",
   "execution_count": 47,
   "id": "ddfd91df",
   "metadata": {},
   "outputs": [],
   "source": [
    "fig=px.scatter_mapbox(dff,lat='Lat', lon='Long', zoom=10)"
   ]
  },
  {
   "cell_type": "code",
   "execution_count": 48,
   "id": "dc214d3b",
   "metadata": {},
   "outputs": [
    {
     "data": {
      "application/vnd.plotly.v1+json": {
       "config": {
        "plotlyServerURL": "https://plot.ly"
       },
       "data": [
        {
         "hovertemplate": "Lat=%{lat}<br>Long=%{lon}<extra></extra>",
         "lat": [
          33.93911,
          41.1533,
          28.0339,
          42.5063,
          -11.2027,
          -71.9499,
          17.0608,
          -38.4161,
          40.0691,
          -42.8821,
          -37.8136,
          -35.4735,
          -34.9285,
          -33.8688,
          -31.9505,
          -27.4698,
          -12.4634,
          47.5162,
          40.1431,
          25.025885,
          26.0275,
          23.685,
          13.1939,
          53.7098,
          50.8333,
          17.1899,
          9.3077,
          27.5142,
          -16.2902,
          43.9159,
          -22.3285,
          -14.235,
          4.5353,
          42.7339,
          12.2383,
          21.9162,
          -3.3731,
          16.5388,
          11.55,
          3.848,
          44.682,
          46.5107,
          46.5653,
          51.2538,
          52.9399,
          52.9399,
          53.1355,
          53.7267,
          53.7609,
          53.9333,
          64.2823,
          64.8255,
          70.2998,
          6.6111,
          15.4542,
          -35.6751,
          19.1959,
          22.1667,
          22.3,
          23.3417,
          23.8298,
          24.974,
          26.0789,
          26.8154,
          27.6104,
          27.614,
          29.1832,
          30.0572,
          30.6171,
          30.9756,
          31.202,
          31.6927,
          31.8257,
          32.9711,
          35.1917,
          35.7452,
          35.7518,
          36.3427,
          37.2692,
          37.5777,
          37.8957,
          39.3054,
          39.549,
          40.1824,
          41.1129,
          41.2956,
          43.6661,
          44.0935,
          47.862,
          4.5709,
          -11.6455,
          -0.228,
          -4.0383,
          9.7489,
          7.54,
          45.1,
          21.521757,
          35.1264,
          49.8175,
          56.2639,
          61.8926,
          11.8251,
          15.415,
          18.7357,
          -1.8312,
          26.820553,
          13.7942,
          1.6508,
          15.1794,
          58.5953,
          -26.5225,
          9.145,
          -17.7134,
          61.92411,
          -21.1151,
          -20.904305,
          -17.6797,
          -14.2938,
          -12.8275,
          3.9339,
          14.6415,
          16.265,
          17.9,
          18.0708,
          46.2276,
          46.8852,
          -0.8037,
          13.4432,
          42.3154,
          51.165691,
          7.9465,
          39.0742,
          71.7069,
          12.1165,
          15.7835,
          9.9456,
          11.8037,
          4.860416,
          18.9712,
          41.9029,
          15.2,
          47.1625,
          64.9631,
          20.593684,
          -0.7893,
          32.427908,
          33.223191,
          53.1424,
          31.046051,
          41.87194,
          18.1096,
          36.204824,
          31.24,
          48.0196,
          -0.0236,
          -3.3704,
          42.602636,
          29.31166,
          41.20438,
          19.85627,
          56.8796,
          33.8547,
          -29.61,
          6.428055,
          26.3351,
          47.14,
          55.1694,
          49.8153,
          -18.766947,
          -13.2543,
          4.210484,
          3.2028,
          17.570692,
          35.9375,
          7.1315,
          21.0079,
          -20.348404,
          23.6345,
          7.4256,
          47.4116,
          43.7333,
          46.8625,
          42.708678,
          31.7917,
          -18.665695,
          -22.9576,
          -0.5228,
          28.1667,
          12.1696,
          12.5211,
          18.0425,
          52.1326,
          -40.9006,
          -21.2367,
          -19.0544,
          12.865416,
          17.607789,
          9.082,
          40.3399,
          41.6086,
          60.472,
          21.512583,
          30.3753,
          7.515,
          8.538,
          -6.314993,
          -23.4425,
          -9.19,
          12.879721,
          51.9194,
          39.3999,
          25.3548,
          45.9432,
          61.52401,
          -1.9403,
          17.357822,
          13.9094,
          12.9843,
          -13.759,
          43.9424,
          0.1864,
          23.885942,
          14.4974,
          44.0165,
          -4.6796,
          8.460555,
          1.2833,
          48.669,
          46.1512,
          -9.6457,
          5.152149,
          -30.5595,
          35.907757,
          6.877,
          40.463667,
          7.873054,
          12.8628,
          3.9193,
          60.128161,
          46.8182,
          34.802075,
          23.7,
          38.861,
          -6.369028,
          15.870032,
          -8.874217,
          8.6195,
          -21.179,
          10.6918,
          33.886917,
          38.9637,
          -7.1095,
          40,
          1.373333,
          48.3794,
          23.424076,
          -51.7963,
          -24.3768,
          16.742498,
          18.2206,
          18.4207,
          19.3133,
          21.694,
          32.3078,
          36.1408,
          49.2138,
          49.3723,
          49.448196,
          54.2361,
          55.3781,
          -32.5228,
          41.377491,
          -15.3767,
          6.4238,
          14.058324,
          31.9522,
          15.552727,
          -13.133897,
          -19.015438
         ],
         "legendgroup": "",
         "lon": [
          67.709953,
          20.1683,
          1.6596,
          1.5218,
          17.8739,
          23.347,
          -61.7964,
          -63.6167,
          45.0382,
          147.3272,
          144.9631,
          149.0124,
          138.6007,
          151.2093,
          115.8605,
          153.0251,
          130.8456,
          14.5501,
          47.5769,
          -78.035889,
          50.55,
          90.3563,
          -59.5432,
          27.9534,
          4.469936,
          -88.4976,
          2.3158,
          90.4336,
          -63.5887,
          17.6791,
          24.6849,
          -51.9253,
          114.7277,
          25.4858,
          -1.5616,
          95.956,
          29.9189,
          -23.0418,
          104.9167,
          11.5021,
          -63.7443,
          -63.4168,
          -66.4619,
          -85.3232,
          -106.4509,
          -73.5491,
          -57.6604,
          -127.6476,
          -98.8139,
          -116.5765,
          -135,
          -124.8457,
          -83.1076,
          20.9394,
          18.7322,
          -71.543,
          109.7453,
          113.55,
          114.2,
          113.4244,
          108.7881,
          101.487,
          117.9874,
          106.8748,
          111.7088,
          115.7221,
          120.0934,
          107.874,
          102.7103,
          112.2707,
          121.4491,
          88.0924,
          117.2264,
          119.455,
          108.8701,
          95.9956,
          104.2861,
          118.1498,
          106.1655,
          112.2922,
          114.9042,
          117.323,
          116.1306,
          116.4142,
          85.2401,
          122.6085,
          126.1923,
          113.9448,
          127.7615,
          -74.2973,
          43.3333,
          15.8277,
          21.7587,
          -83.7534,
          -5.5471,
          15.2,
          -77.781167,
          33.4299,
          15.473,
          9.5018,
          -6.9118,
          42.5903,
          -61.371,
          -70.1627,
          -78.1834,
          30.802498,
          -88.8965,
          10.2679,
          39.7823,
          25.0136,
          31.4659,
          40.4897,
          178.065,
          25.748151,
          55.5364,
          165.618042,
          149.4068,
          -178.1165,
          45.166244,
          -53.1258,
          -61.0242,
          -61.551,
          -62.8333,
          -63.0501,
          2.2137,
          -56.3159,
          11.6094,
          -15.3101,
          43.3569,
          10.451526,
          -1.0232,
          21.8243,
          -42.6043,
          -61.679,
          -90.2308,
          -9.6966,
          -15.1804,
          -58.93018,
          -72.2852,
          12.4534,
          -86.2419,
          19.5033,
          -19.0208,
          78.96288,
          113.9213,
          53.688046,
          43.679291,
          -7.6921,
          34.851612,
          12.56738,
          -77.2975,
          138.252924,
          36.51,
          66.9237,
          37.9062,
          -168.734,
          20.902977,
          47.481766,
          74.766098,
          102.495496,
          24.6032,
          35.8623,
          28.2336,
          -9.429499,
          17.228331,
          9.55,
          23.8813,
          6.1296,
          46.869107,
          34.3015,
          101.975766,
          73.2207,
          -3.996166,
          14.3754,
          171.1845,
          -10.9408,
          57.552152,
          -102.5528,
          150.5508,
          28.3699,
          7.4167,
          103.8467,
          19.37439,
          -7.0926,
          35.529562,
          18.4904,
          166.9315,
          84.25,
          -68.99,
          -69.9683,
          -63.0548,
          5.2913,
          174.886,
          -159.7777,
          -169.8672,
          -85.207229,
          8.081666,
          8.6753,
          127.5101,
          21.7453,
          8.4689,
          55.923255,
          69.3451,
          134.5825,
          -80.7821,
          143.95555,
          -58.4438,
          -75.0152,
          121.774017,
          19.1451,
          -8.2245,
          51.1839,
          24.9668,
          105.318756,
          29.8739,
          -62.782998,
          -60.9789,
          -61.2872,
          -172.1046,
          12.4578,
          6.6131,
          45.079162,
          -14.4524,
          21.0059,
          55.492,
          -11.779889,
          103.8333,
          19.699,
          14.9955,
          160.1562,
          46.199616,
          22.9375,
          127.766922,
          31.307,
          -3.74922,
          80.771797,
          30.2176,
          -56.0278,
          18.643501,
          8.2275,
          38.996815,
          121,
          71.2761,
          34.888822,
          100.992541,
          125.727539,
          0.8248,
          -175.1982,
          -61.2225,
          9.537499,
          35.2433,
          177.6493,
          -100,
          32.290275,
          31.1656,
          53.847818,
          -59.5236,
          -128.3242,
          -62.187366,
          -63.0686,
          -64.64,
          -81.2546,
          -71.7979,
          -64.7505,
          -5.3536,
          -2.1358,
          -2.3644,
          -2.58949,
          -4.5481,
          -3.436,
          -55.7658,
          64.585262,
          166.9592,
          -66.5897,
          108.277199,
          35.2332,
          48.516388,
          27.849332,
          29.154857
         ],
         "marker": {
          "color": "#636efa"
         },
         "mode": "markers",
         "name": "",
         "showlegend": false,
         "subplot": "mapbox",
         "type": "scattermapbox"
        }
       ],
       "layout": {
        "legend": {
         "tracegroupgap": 0
        },
        "mapbox": {
         "center": {
          "lat": 19.998162172042992,
          "lon": 22.19595456630824
         },
         "domain": {
          "x": [
           0,
           1
          ],
          "y": [
           0,
           1
          ]
         },
         "layers": [
          {
           "coordinates": [
            [
             -177.93840925,
             -71.8780716
            ],
            [
             177.88690925,
             -71.8780716
            ],
            [
             177.88690925,
             71.63507159999999
            ],
            [
             -177.93840925,
             71.63507159999999
            ]
           ],
           "source": "data:image/png;base64,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",
           "sourcetype": "image"
          }
         ],
         "style": "carto-darkmatter",
         "zoom": 10
        },
        "margin": {
         "t": 60
        },
        "template": {
         "data": {
          "bar": [
           {
            "error_x": {
             "color": "#2a3f5f"
            },
            "error_y": {
             "color": "#2a3f5f"
            },
            "marker": {
             "line": {
              "color": "#E5ECF6",
              "width": 0.5
             },
             "pattern": {
              "fillmode": "overlay",
              "size": 10,
              "solidity": 0.2
             }
            },
            "type": "bar"
           }
          ],
          "barpolar": [
           {
            "marker": {
             "line": {
              "color": "#E5ECF6",
              "width": 0.5
             },
             "pattern": {
              "fillmode": "overlay",
              "size": 10,
              "solidity": 0.2
             }
            },
            "type": "barpolar"
           }
          ],
          "carpet": [
           {
            "aaxis": {
             "endlinecolor": "#2a3f5f",
             "gridcolor": "white",
             "linecolor": "white",
             "minorgridcolor": "white",
             "startlinecolor": "#2a3f5f"
            },
            "baxis": {
             "endlinecolor": "#2a3f5f",
             "gridcolor": "white",
             "linecolor": "white",
             "minorgridcolor": "white",
             "startlinecolor": "#2a3f5f"
            },
            "type": "carpet"
           }
          ],
          "choropleth": [
           {
            "colorbar": {
             "outlinewidth": 0,
             "ticks": ""
            },
            "type": "choropleth"
           }
          ],
          "contour": [
           {
            "colorbar": {
             "outlinewidth": 0,
             "ticks": ""
            },
            "colorscale": [
             [
              0,
              "#0d0887"
             ],
             [
              0.1111111111111111,
              "#46039f"
             ],
             [
              0.2222222222222222,
              "#7201a8"
             ],
             [
              0.3333333333333333,
              "#9c179e"
             ],
             [
              0.4444444444444444,
              "#bd3786"
             ],
             [
              0.5555555555555556,
              "#d8576b"
             ],
             [
              0.6666666666666666,
              "#ed7953"
             ],
             [
              0.7777777777777778,
              "#fb9f3a"
             ],
             [
              0.8888888888888888,
              "#fdca26"
             ],
             [
              1,
              "#f0f921"
             ]
            ],
            "type": "contour"
           }
          ],
          "contourcarpet": [
           {
            "colorbar": {
             "outlinewidth": 0,
             "ticks": ""
            },
            "type": "contourcarpet"
           }
          ],
          "heatmap": [
           {
            "colorbar": {
             "outlinewidth": 0,
             "ticks": ""
            },
            "colorscale": [
             [
              0,
              "#0d0887"
             ],
             [
              0.1111111111111111,
              "#46039f"
             ],
             [
              0.2222222222222222,
              "#7201a8"
             ],
             [
              0.3333333333333333,
              "#9c179e"
             ],
             [
              0.4444444444444444,
              "#bd3786"
             ],
             [
              0.5555555555555556,
              "#d8576b"
             ],
             [
              0.6666666666666666,
              "#ed7953"
             ],
             [
              0.7777777777777778,
              "#fb9f3a"
             ],
             [
              0.8888888888888888,
              "#fdca26"
             ],
             [
              1,
              "#f0f921"
             ]
            ],
            "type": "heatmap"
           }
          ],
          "heatmapgl": [
           {
            "colorbar": {
             "outlinewidth": 0,
             "ticks": ""
            },
            "colorscale": [
             [
              0,
              "#0d0887"
             ],
             [
              0.1111111111111111,
              "#46039f"
             ],
             [
              0.2222222222222222,
              "#7201a8"
             ],
             [
              0.3333333333333333,
              "#9c179e"
             ],
             [
              0.4444444444444444,
              "#bd3786"
             ],
             [
              0.5555555555555556,
              "#d8576b"
             ],
             [
              0.6666666666666666,
              "#ed7953"
             ],
             [
              0.7777777777777778,
              "#fb9f3a"
             ],
             [
              0.8888888888888888,
              "#fdca26"
             ],
             [
              1,
              "#f0f921"
             ]
            ],
            "type": "heatmapgl"
           }
          ],
          "histogram": [
           {
            "marker": {
             "pattern": {
              "fillmode": "overlay",
              "size": 10,
              "solidity": 0.2
             }
            },
            "type": "histogram"
           }
          ],
          "histogram2d": [
           {
            "colorbar": {
             "outlinewidth": 0,
             "ticks": ""
            },
            "colorscale": [
             [
              0,
              "#0d0887"
             ],
             [
              0.1111111111111111,
              "#46039f"
             ],
             [
              0.2222222222222222,
              "#7201a8"
             ],
             [
              0.3333333333333333,
              "#9c179e"
             ],
             [
              0.4444444444444444,
              "#bd3786"
             ],
             [
              0.5555555555555556,
              "#d8576b"
             ],
             [
              0.6666666666666666,
              "#ed7953"
             ],
             [
              0.7777777777777778,
              "#fb9f3a"
             ],
             [
              0.8888888888888888,
              "#fdca26"
             ],
             [
              1,
              "#f0f921"
             ]
            ],
            "type": "histogram2d"
           }
          ],
          "histogram2dcontour": [
           {
            "colorbar": {
             "outlinewidth": 0,
             "ticks": ""
            },
            "colorscale": [
             [
              0,
              "#0d0887"
             ],
             [
              0.1111111111111111,
              "#46039f"
             ],
             [
              0.2222222222222222,
              "#7201a8"
             ],
             [
              0.3333333333333333,
              "#9c179e"
             ],
             [
              0.4444444444444444,
              "#bd3786"
             ],
             [
              0.5555555555555556,
              "#d8576b"
             ],
             [
              0.6666666666666666,
              "#ed7953"
             ],
             [
              0.7777777777777778,
              "#fb9f3a"
             ],
             [
              0.8888888888888888,
              "#fdca26"
             ],
             [
              1,
              "#f0f921"
             ]
            ],
            "type": "histogram2dcontour"
           }
          ],
          "mesh3d": [
           {
            "colorbar": {
             "outlinewidth": 0,
             "ticks": ""
            },
            "type": "mesh3d"
           }
          ],
          "parcoords": [
           {
            "line": {
             "colorbar": {
              "outlinewidth": 0,
              "ticks": ""
             }
            },
            "type": "parcoords"
           }
          ],
          "pie": [
           {
            "automargin": true,
            "type": "pie"
           }
          ],
          "scatter": [
           {
            "fillpattern": {
             "fillmode": "overlay",
             "size": 10,
             "solidity": 0.2
            },
            "type": "scatter"
           }
          ],
          "scatter3d": [
           {
            "line": {
             "colorbar": {
              "outlinewidth": 0,
              "ticks": ""
             }
            },
            "marker": {
             "colorbar": {
              "outlinewidth": 0,
              "ticks": ""
             }
            },
            "type": "scatter3d"
           }
          ],
          "scattercarpet": [
           {
            "marker": {
             "colorbar": {
              "outlinewidth": 0,
              "ticks": ""
             }
            },
            "type": "scattercarpet"
           }
          ],
          "scattergeo": [
           {
            "marker": {
             "colorbar": {
              "outlinewidth": 0,
              "ticks": ""
             }
            },
            "type": "scattergeo"
           }
          ],
          "scattergl": [
           {
            "marker": {
             "colorbar": {
              "outlinewidth": 0,
              "ticks": ""
             }
            },
            "type": "scattergl"
           }
          ],
          "scattermapbox": [
           {
            "marker": {
             "colorbar": {
              "outlinewidth": 0,
              "ticks": ""
             }
            },
            "type": "scattermapbox"
           }
          ],
          "scatterpolar": [
           {
            "marker": {
             "colorbar": {
              "outlinewidth": 0,
              "ticks": ""
             }
            },
            "type": "scatterpolar"
           }
          ],
          "scatterpolargl": [
           {
            "marker": {
             "colorbar": {
              "outlinewidth": 0,
              "ticks": ""
             }
            },
            "type": "scatterpolargl"
           }
          ],
          "scatterternary": [
           {
            "marker": {
             "colorbar": {
              "outlinewidth": 0,
              "ticks": ""
             }
            },
            "type": "scatterternary"
           }
          ],
          "surface": [
           {
            "colorbar": {
             "outlinewidth": 0,
             "ticks": ""
            },
            "colorscale": [
             [
              0,
              "#0d0887"
             ],
             [
              0.1111111111111111,
              "#46039f"
             ],
             [
              0.2222222222222222,
              "#7201a8"
             ],
             [
              0.3333333333333333,
              "#9c179e"
             ],
             [
              0.4444444444444444,
              "#bd3786"
             ],
             [
              0.5555555555555556,
              "#d8576b"
             ],
             [
              0.6666666666666666,
              "#ed7953"
             ],
             [
              0.7777777777777778,
              "#fb9f3a"
             ],
             [
              0.8888888888888888,
              "#fdca26"
             ],
             [
              1,
              "#f0f921"
             ]
            ],
            "type": "surface"
           }
          ],
          "table": [
           {
            "cells": {
             "fill": {
              "color": "#EBF0F8"
             },
             "line": {
              "color": "white"
             }
            },
            "header": {
             "fill": {
              "color": "#C8D4E3"
             },
             "line": {
              "color": "white"
             }
            },
            "type": "table"
           }
          ]
         },
         "layout": {
          "annotationdefaults": {
           "arrowcolor": "#2a3f5f",
           "arrowhead": 0,
           "arrowwidth": 1
          },
          "autotypenumbers": "strict",
          "coloraxis": {
           "colorbar": {
            "outlinewidth": 0,
            "ticks": ""
           }
          },
          "colorscale": {
           "diverging": [
            [
             0,
             "#8e0152"
            ],
            [
             0.1,
             "#c51b7d"
            ],
            [
             0.2,
             "#de77ae"
            ],
            [
             0.3,
             "#f1b6da"
            ],
            [
             0.4,
             "#fde0ef"
            ],
            [
             0.5,
             "#f7f7f7"
            ],
            [
             0.6,
             "#e6f5d0"
            ],
            [
             0.7,
             "#b8e186"
            ],
            [
             0.8,
             "#7fbc41"
            ],
            [
             0.9,
             "#4d9221"
            ],
            [
             1,
             "#276419"
            ]
           ],
           "sequential": [
            [
             0,
             "#0d0887"
            ],
            [
             0.1111111111111111,
             "#46039f"
            ],
            [
             0.2222222222222222,
             "#7201a8"
            ],
            [
             0.3333333333333333,
             "#9c179e"
            ],
            [
             0.4444444444444444,
             "#bd3786"
            ],
            [
             0.5555555555555556,
             "#d8576b"
            ],
            [
             0.6666666666666666,
             "#ed7953"
            ],
            [
             0.7777777777777778,
             "#fb9f3a"
            ],
            [
             0.8888888888888888,
             "#fdca26"
            ],
            [
             1,
             "#f0f921"
            ]
           ],
           "sequentialminus": [
            [
             0,
             "#0d0887"
            ],
            [
             0.1111111111111111,
             "#46039f"
            ],
            [
             0.2222222222222222,
             "#7201a8"
            ],
            [
             0.3333333333333333,
             "#9c179e"
            ],
            [
             0.4444444444444444,
             "#bd3786"
            ],
            [
             0.5555555555555556,
             "#d8576b"
            ],
            [
             0.6666666666666666,
             "#ed7953"
            ],
            [
             0.7777777777777778,
             "#fb9f3a"
            ],
            [
             0.8888888888888888,
             "#fdca26"
            ],
            [
             1,
             "#f0f921"
            ]
           ]
          },
          "colorway": [
           "#636efa",
           "#EF553B",
           "#00cc96",
           "#ab63fa",
           "#FFA15A",
           "#19d3f3",
           "#FF6692",
           "#B6E880",
           "#FF97FF",
           "#FECB52"
          ],
          "font": {
           "color": "#2a3f5f"
          },
          "geo": {
           "bgcolor": "white",
           "lakecolor": "white",
           "landcolor": "#E5ECF6",
           "showlakes": true,
           "showland": true,
           "subunitcolor": "white"
          },
          "hoverlabel": {
           "align": "left"
          },
          "hovermode": "closest",
          "mapbox": {
           "style": "light"
          },
          "paper_bgcolor": "white",
          "plot_bgcolor": "#E5ECF6",
          "polar": {
           "angularaxis": {
            "gridcolor": "white",
            "linecolor": "white",
            "ticks": ""
           },
           "bgcolor": "#E5ECF6",
           "radialaxis": {
            "gridcolor": "white",
            "linecolor": "white",
            "ticks": ""
           }
          },
          "scene": {
           "xaxis": {
            "backgroundcolor": "#E5ECF6",
            "gridcolor": "white",
            "gridwidth": 2,
            "linecolor": "white",
            "showbackground": true,
            "ticks": "",
            "zerolinecolor": "white"
           },
           "yaxis": {
            "backgroundcolor": "#E5ECF6",
            "gridcolor": "white",
            "gridwidth": 2,
            "linecolor": "white",
            "showbackground": true,
            "ticks": "",
            "zerolinecolor": "white"
           },
           "zaxis": {
            "backgroundcolor": "#E5ECF6",
            "gridcolor": "white",
            "gridwidth": 2,
            "linecolor": "white",
            "showbackground": true,
            "ticks": "",
            "zerolinecolor": "white"
           }
          },
          "shapedefaults": {
           "line": {
            "color": "#2a3f5f"
           }
          },
          "ternary": {
           "aaxis": {
            "gridcolor": "white",
            "linecolor": "white",
            "ticks": ""
           },
           "baxis": {
            "gridcolor": "white",
            "linecolor": "white",
            "ticks": ""
           },
           "bgcolor": "#E5ECF6",
           "caxis": {
            "gridcolor": "white",
            "linecolor": "white",
            "ticks": ""
           }
          },
          "title": {
           "x": 0.05
          },
          "xaxis": {
           "automargin": true,
           "gridcolor": "white",
           "linecolor": "white",
           "ticks": "",
           "title": {
            "standoff": 15
           },
           "zerolinecolor": "white",
           "zerolinewidth": 2
          },
          "yaxis": {
           "automargin": true,
           "gridcolor": "white",
           "linecolor": "white",
           "ticks": "",
           "title": {
            "standoff": 15
           },
           "zerolinecolor": "white",
           "zerolinewidth": 2
          }
         }
        }
       }
      },
      "text/html": [
       "<div>                            <div id=\"51cc05cb-f655-4ca1-b930-9e0457db2211\" class=\"plotly-graph-div\" style=\"height:525px; width:100%;\"></div>            <script type=\"text/javascript\">                require([\"plotly\"], function(Plotly) {                    window.PLOTLYENV=window.PLOTLYENV || {};                                    if (document.getElementById(\"51cc05cb-f655-4ca1-b930-9e0457db2211\")) {                    Plotly.newPlot(                        \"51cc05cb-f655-4ca1-b930-9e0457db2211\",                        [{\"hovertemplate\":\"Lat=%{lat}<br>Long=%{lon}<extra></extra>\",\"lat\":[33.93911,41.1533,28.0339,42.5063,-11.2027,-71.9499,17.0608,-38.4161,40.0691,-42.8821,-37.8136,-35.4735,-34.9285,-33.8688,-31.9505,-27.4698,-12.4634,47.5162,40.1431,25.025885,26.0275,23.685,13.1939,53.7098,50.8333,17.1899,9.3077,27.5142,-16.2902,43.9159,-22.3285,-14.235,4.5353,42.7339,12.2383,21.9162,-3.3731,16.5388,11.55,3.848,44.682,46.5107,46.5653,51.2538,52.9399,52.9399,53.1355,53.7267,53.7609,53.9333,64.2823,64.8255,70.2998,6.6111,15.4542,-35.6751,19.1959,22.1667,22.3,23.3417,23.8298,24.974,26.0789,26.8154,27.6104,27.614,29.1832,30.0572,30.6171,30.9756,31.202,31.6927,31.8257,32.9711,35.1917,35.7452,35.7518,36.3427,37.2692,37.5777,37.8957,39.3054,39.549,40.1824,41.1129,41.2956,43.6661,44.0935,47.862,4.5709,-11.6455,-0.228,-4.0383,9.7489,7.54,45.1,21.521757,35.1264,49.8175,56.2639,61.8926,11.8251,15.415,18.7357,-1.8312,26.820553,13.7942,1.6508,15.1794,58.5953,-26.5225,9.145,-17.7134,61.92411,-21.1151,-20.904305,-17.6797,-14.2938,-12.8275,3.9339,14.6415,16.265,17.9,18.0708,46.2276,46.8852,-0.8037,13.4432,42.3154,51.165691,7.9465,39.0742,71.7069,12.1165,15.7835,9.9456,11.8037,4.860416,18.9712,41.9029,15.2,47.1625,64.9631,20.593684,-0.7893,32.427908,33.223191,53.1424,31.046051,41.87194,18.1096,36.204824,31.24,48.0196,-0.0236,-3.3704,42.602636,29.31166,41.20438,19.85627,56.8796,33.8547,-29.61,6.428055,26.3351,47.14,55.1694,49.8153,-18.766947,-13.2543,4.210484,3.2028,17.570692,35.9375,7.1315,21.0079,-20.348404,23.6345,7.4256,47.4116,43.7333,46.8625,42.708678,31.7917,-18.665695,-22.9576,-0.5228,28.1667,12.1696,12.5211,18.0425,52.1326,-40.9006,-21.2367,-19.0544,12.865416,17.607789,9.082,40.3399,41.6086,60.472,21.512583,30.3753,7.515,8.538,-6.314993,-23.4425,-9.19,12.879721,51.9194,39.3999,25.3548,45.9432,61.52401,-1.9403,17.357822,13.9094,12.9843,-13.759,43.9424,0.1864,23.885942,14.4974,44.0165,-4.6796,8.460555,1.2833,48.669,46.1512,-9.6457,5.152149,-30.5595,35.907757,6.877,40.463667,7.873054,12.8628,3.9193,60.128161,46.8182,34.802075,23.7,38.861,-6.369028,15.870032,-8.874217,8.6195,-21.179,10.6918,33.886917,38.9637,-7.1095,40.0,1.373333,48.3794,23.424076,-51.7963,-24.3768,16.742498,18.2206,18.4207,19.3133,21.694,32.3078,36.1408,49.2138,49.3723,49.448196,54.2361,55.3781,-32.5228,41.377491,-15.3767,6.4238,14.058324,31.9522,15.552727,-13.133897,-19.015438],\"legendgroup\":\"\",\"lon\":[67.709953,20.1683,1.6596,1.5218,17.8739,23.347,-61.7964,-63.6167,45.0382,147.3272,144.9631,149.0124,138.6007,151.2093,115.8605,153.0251,130.8456,14.5501,47.5769,-78.035889,50.55,90.3563,-59.5432,27.9534,4.469936,-88.4976,2.3158,90.4336,-63.5887,17.6791,24.6849,-51.9253,114.7277,25.4858,-1.5616,95.956,29.9189,-23.0418,104.9167,11.5021,-63.7443,-63.4168,-66.4619,-85.3232,-106.4509,-73.5491,-57.6604,-127.6476,-98.8139,-116.5765,-135.0,-124.8457,-83.1076,20.9394,18.7322,-71.543,109.7453,113.55,114.2,113.4244,108.7881,101.487,117.9874,106.8748,111.7088,115.7221,120.0934,107.874,102.7103,112.2707,121.4491,88.0924,117.2264,119.455,108.8701,95.9956,104.2861,118.1498,106.1655,112.2922,114.9042,117.323,116.1306,116.4142,85.2401,122.6085,126.1923,113.9448,127.7615,-74.2973,43.3333,15.8277,21.7587,-83.7534,-5.5471,15.2,-77.781167,33.4299,15.473,9.5018,-6.9118,42.5903,-61.371,-70.1627,-78.1834,30.802498,-88.8965,10.2679,39.7823,25.0136,31.4659,40.4897,178.065,25.748151,55.5364,165.618042,149.4068,-178.1165,45.166244,-53.1258,-61.0242,-61.551,-62.8333,-63.0501,2.2137,-56.3159,11.6094,-15.3101,43.3569,10.451526,-1.0232,21.8243,-42.6043,-61.679,-90.2308,-9.6966,-15.1804,-58.93018,-72.2852,12.4534,-86.2419,19.5033,-19.0208,78.96288,113.9213,53.688046,43.679291,-7.6921,34.851612,12.56738,-77.2975,138.252924,36.51,66.9237,37.9062,-168.734,20.902977,47.481766,74.766098,102.495496,24.6032,35.8623,28.2336,-9.429499,17.228331,9.55,23.8813,6.1296,46.869107,34.3015,101.975766,73.2207,-3.996166,14.3754,171.1845,-10.9408,57.552152,-102.5528,150.5508,28.3699,7.4167,103.8467,19.37439,-7.0926,35.529562,18.4904,166.9315,84.25,-68.99,-69.9683,-63.0548,5.2913,174.886,-159.7777,-169.8672,-85.207229,8.081666,8.6753,127.5101,21.7453,8.4689,55.923255,69.3451,134.5825,-80.7821,143.95555,-58.4438,-75.0152,121.774017,19.1451,-8.2245,51.1839,24.9668,105.318756,29.8739,-62.782998,-60.9789,-61.2872,-172.1046,12.4578,6.6131,45.079162,-14.4524,21.0059,55.492,-11.779889,103.8333,19.699,14.9955,160.1562,46.199616,22.9375,127.766922,31.307,-3.74922,80.771797,30.2176,-56.0278,18.643501,8.2275,38.996815,121.0,71.2761,34.888822,100.992541,125.727539,0.8248,-175.1982,-61.2225,9.537499,35.2433,177.6493,-100.0,32.290275,31.1656,53.847818,-59.5236,-128.3242,-62.187366,-63.0686,-64.64,-81.2546,-71.7979,-64.7505,-5.3536,-2.1358,-2.3644,-2.58949,-4.5481,-3.436,-55.7658,64.585262,166.9592,-66.5897,108.277199,35.2332,48.516388,27.849332,29.154857],\"marker\":{\"color\":\"#636efa\"},\"mode\":\"markers\",\"name\":\"\",\"showlegend\":false,\"subplot\":\"mapbox\",\"type\":\"scattermapbox\"}],                        {\"template\":{\"data\":{\"histogram2dcontour\":[{\"type\":\"histogram2dcontour\",\"colorbar\":{\"outlinewidth\":0,\"ticks\":\"\"},\"colorscale\":[[0.0,\"#0d0887\"],[0.1111111111111111,\"#46039f\"],[0.2222222222222222,\"#7201a8\"],[0.3333333333333333,\"#9c179e\"],[0.4444444444444444,\"#bd3786\"],[0.5555555555555556,\"#d8576b\"],[0.6666666666666666,\"#ed7953\"],[0.7777777777777778,\"#fb9f3a\"],[0.8888888888888888,\"#fdca26\"],[1.0,\"#f0f921\"]]}],\"choropleth\":[{\"type\":\"choropleth\",\"colorbar\":{\"outlinewidth\":0,\"ticks\":\"\"}}],\"histogram2d\":[{\"type\":\"histogram2d\",\"colorbar\":{\"outlinewidth\":0,\"ticks\":\"\"},\"colorscale\":[[0.0,\"#0d0887\"],[0.1111111111111111,\"#46039f\"],[0.2222222222222222,\"#7201a8\"],[0.3333333333333333,\"#9c179e\"],[0.4444444444444444,\"#bd3786\"],[0.5555555555555556,\"#d8576b\"],[0.6666666666666666,\"#ed7953\"],[0.7777777777777778,\"#fb9f3a\"],[0.8888888888888888,\"#fdca26\"],[1.0,\"#f0f921\"]]}],\"heatmap\":[{\"type\":\"heatmap\",\"colorbar\":{\"outlinewidth\":0,\"ticks\":\"\"},\"colorscale\":[[0.0,\"#0d0887\"],[0.1111111111111111,\"#46039f\"],[0.2222222222222222,\"#7201a8\"],[0.3333333333333333,\"#9c179e\"],[0.4444444444444444,\"#bd3786\"],[0.5555555555555556,\"#d8576b\"],[0.6666666666666666,\"#ed7953\"],[0.7777777777777778,\"#fb9f3a\"],[0.8888888888888888,\"#fdca26\"],[1.0,\"#f0f921\"]]}],\"heatmapgl\":[{\"type\":\"heatmapgl\",\"colorbar\":{\"outlinewidth\":0,\"ticks\":\"\"},\"colorscale\":[[0.0,\"#0d0887\"],[0.1111111111111111,\"#46039f\"],[0.2222222222222222,\"#7201a8\"],[0.3333333333333333,\"#9c179e\"],[0.4444444444444444,\"#bd3786\"],[0.5555555555555556,\"#d8576b\"],[0.6666666666666666,\"#ed7953\"],[0.7777777777777778,\"#fb9f3a\"],[0.8888888888888888,\"#fdca26\"],[1.0,\"#f0f921\"]]}],\"contourcarpet\":[{\"type\":\"contourcarpet\",\"colorbar\":{\"outlinewidth\":0,\"ticks\":\"\"}}],\"contour\":[{\"type\":\"contour\",\"colorbar\":{\"outlinewidth\":0,\"ticks\":\"\"},\"colorscale\":[[0.0,\"#0d0887\"],[0.1111111111111111,\"#46039f\"],[0.2222222222222222,\"#7201a8\"],[0.3333333333333333,\"#9c179e\"],[0.4444444444444444,\"#bd3786\"],[0.5555555555555556,\"#d8576b\"],[0.6666666666666666,\"#ed7953\"],[0.7777777777777778,\"#fb9f3a\"],[0.8888888888888888,\"#fdca26\"],[1.0,\"#f0f921\"]]}],\"surface\":[{\"type\":\"surface\",\"colorbar\":{\"outlinewidth\":0,\"ticks\":\"\"},\"colorscale\":[[0.0,\"#0d0887\"],[0.1111111111111111,\"#46039f\"],[0.2222222222222222,\"#7201a8\"],[0.3333333333333333,\"#9c179e\"],[0.4444444444444444,\"#bd3786\"],[0.5555555555555556,\"#d8576b\"],[0.6666666666666666,\"#ed7953\"],[0.7777777777777778,\"#fb9f3a\"],[0.8888888888888888,\"#fdca26\"],[1.0,\"#f0f921\"]]}],\"mesh3d\":[{\"type\":\"mesh3d\",\"colorbar\":{\"outlinewidth\":0,\"ticks\":\"\"}}],\"scatter\":[{\"fillpattern\":{\"fillmode\":\"overlay\",\"size\":10,\"solidity\":0.2},\"type\":\"scatter\"}],\"parcoords\":[{\"type\":\"parcoords\",\"line\":{\"colorbar\":{\"outlinewidth\":0,\"ticks\":\"\"}}}],\"scatterpolargl\":[{\"type\":\"scatterpolargl\",\"marker\":{\"colorbar\":{\"outlinewidth\":0,\"ticks\":\"\"}}}],\"bar\":[{\"error_x\":{\"color\":\"#2a3f5f\"},\"error_y\":{\"color\":\"#2a3f5f\"},\"marker\":{\"line\":{\"color\":\"#E5ECF6\",\"width\":0.5},\"pattern\":{\"fillmode\":\"overlay\",\"size\":10,\"solidity\":0.2}},\"type\":\"bar\"}],\"scattergeo\":[{\"type\":\"scattergeo\",\"marker\":{\"colorbar\":{\"outlinewidth\":0,\"ticks\":\"\"}}}],\"scatterpolar\":[{\"type\":\"scatterpolar\",\"marker\":{\"colorbar\":{\"outlinewidth\":0,\"ticks\":\"\"}}}],\"histogram\":[{\"marker\":{\"pattern\":{\"fillmode\":\"overlay\",\"size\":10,\"solidity\":0.2}},\"type\":\"histogram\"}],\"scattergl\":[{\"type\":\"scattergl\",\"marker\":{\"colorbar\":{\"outlinewidth\":0,\"ticks\":\"\"}}}],\"scatter3d\":[{\"type\":\"scatter3d\",\"line\":{\"colorbar\":{\"outlinewidth\":0,\"ticks\":\"\"}},\"marker\":{\"colorbar\":{\"outlinewidth\":0,\"ticks\":\"\"}}}],\"scattermapbox\":[{\"type\":\"scattermapbox\",\"marker\":{\"colorbar\":{\"outlinewidth\":0,\"ticks\":\"\"}}}],\"scatterternary\":[{\"type\":\"scatterternary\",\"marker\":{\"colorbar\":{\"outlinewidth\":0,\"ticks\":\"\"}}}],\"scattercarpet\":[{\"type\":\"scattercarpet\",\"marker\":{\"colorbar\":{\"outlinewidth\":0,\"ticks\":\"\"}}}],\"carpet\":[{\"aaxis\":{\"endlinecolor\":\"#2a3f5f\",\"gridcolor\":\"white\",\"linecolor\":\"white\",\"minorgridcolor\":\"white\",\"startlinecolor\":\"#2a3f5f\"},\"baxis\":{\"endlinecolor\":\"#2a3f5f\",\"gridcolor\":\"white\",\"linecolor\":\"white\",\"minorgridcolor\":\"white\",\"startlinecolor\":\"#2a3f5f\"},\"type\":\"carpet\"}],\"table\":[{\"cells\":{\"fill\":{\"color\":\"#EBF0F8\"},\"line\":{\"color\":\"white\"}},\"header\":{\"fill\":{\"color\":\"#C8D4E3\"},\"line\":{\"color\":\"white\"}},\"type\":\"table\"}],\"barpolar\":[{\"marker\":{\"line\":{\"color\":\"#E5ECF6\",\"width\":0.5},\"pattern\":{\"fillmode\":\"overlay\",\"size\":10,\"solidity\":0.2}},\"type\":\"barpolar\"}],\"pie\":[{\"automargin\":true,\"type\":\"pie\"}]},\"layout\":{\"autotypenumbers\":\"strict\",\"colorway\":[\"#636efa\",\"#EF553B\",\"#00cc96\",\"#ab63fa\",\"#FFA15A\",\"#19d3f3\",\"#FF6692\",\"#B6E880\",\"#FF97FF\",\"#FECB52\"],\"font\":{\"color\":\"#2a3f5f\"},\"hovermode\":\"closest\",\"hoverlabel\":{\"align\":\"left\"},\"paper_bgcolor\":\"white\",\"plot_bgcolor\":\"#E5ECF6\",\"polar\":{\"bgcolor\":\"#E5ECF6\",\"angularaxis\":{\"gridcolor\":\"white\",\"linecolor\":\"white\",\"ticks\":\"\"},\"radialaxis\":{\"gridcolor\":\"white\",\"linecolor\":\"white\",\"ticks\":\"\"}},\"ternary\":{\"bgcolor\":\"#E5ECF6\",\"aaxis\":{\"gridcolor\":\"white\",\"linecolor\":\"white\",\"ticks\":\"\"},\"baxis\":{\"gridcolor\":\"white\",\"linecolor\":\"white\",\"ticks\":\"\"},\"caxis\":{\"gridcolor\":\"white\",\"linecolor\":\"white\",\"ticks\":\"\"}},\"coloraxis\":{\"colorbar\":{\"outlinewidth\":0,\"ticks\":\"\"}},\"colorscale\":{\"sequential\":[[0.0,\"#0d0887\"],[0.1111111111111111,\"#46039f\"],[0.2222222222222222,\"#7201a8\"],[0.3333333333333333,\"#9c179e\"],[0.4444444444444444,\"#bd3786\"],[0.5555555555555556,\"#d8576b\"],[0.6666666666666666,\"#ed7953\"],[0.7777777777777778,\"#fb9f3a\"],[0.8888888888888888,\"#fdca26\"],[1.0,\"#f0f921\"]],\"sequentialminus\":[[0.0,\"#0d0887\"],[0.1111111111111111,\"#46039f\"],[0.2222222222222222,\"#7201a8\"],[0.3333333333333333,\"#9c179e\"],[0.4444444444444444,\"#bd3786\"],[0.5555555555555556,\"#d8576b\"],[0.6666666666666666,\"#ed7953\"],[0.7777777777777778,\"#fb9f3a\"],[0.8888888888888888,\"#fdca26\"],[1.0,\"#f0f921\"]],\"diverging\":[[0,\"#8e0152\"],[0.1,\"#c51b7d\"],[0.2,\"#de77ae\"],[0.3,\"#f1b6da\"],[0.4,\"#fde0ef\"],[0.5,\"#f7f7f7\"],[0.6,\"#e6f5d0\"],[0.7,\"#b8e186\"],[0.8,\"#7fbc41\"],[0.9,\"#4d9221\"],[1,\"#276419\"]]},\"xaxis\":{\"gridcolor\":\"white\",\"linecolor\":\"white\",\"ticks\":\"\",\"title\":{\"standoff\":15},\"zerolinecolor\":\"white\",\"automargin\":true,\"zerolinewidth\":2},\"yaxis\":{\"gridcolor\":\"white\",\"linecolor\":\"white\",\"ticks\":\"\",\"title\":{\"standoff\":15},\"zerolinecolor\":\"white\",\"automargin\":true,\"zerolinewidth\":2},\"scene\":{\"xaxis\":{\"backgroundcolor\":\"#E5ECF6\",\"gridcolor\":\"white\",\"linecolor\":\"white\",\"showbackground\":true,\"ticks\":\"\",\"zerolinecolor\":\"white\",\"gridwidth\":2},\"yaxis\":{\"backgroundcolor\":\"#E5ECF6\",\"gridcolor\":\"white\",\"linecolor\":\"white\",\"showbackground\":true,\"ticks\":\"\",\"zerolinecolor\":\"white\",\"gridwidth\":2},\"zaxis\":{\"backgroundcolor\":\"#E5ECF6\",\"gridcolor\":\"white\",\"linecolor\":\"white\",\"showbackground\":true,\"ticks\":\"\",\"zerolinecolor\":\"white\",\"gridwidth\":2}},\"shapedefaults\":{\"line\":{\"color\":\"#2a3f5f\"}},\"annotationdefaults\":{\"arrowcolor\":\"#2a3f5f\",\"arrowhead\":0,\"arrowwidth\":1},\"geo\":{\"bgcolor\":\"white\",\"landcolor\":\"#E5ECF6\",\"subunitcolor\":\"white\",\"showland\":true,\"showlakes\":true,\"lakecolor\":\"white\"},\"title\":{\"x\":0.05},\"mapbox\":{\"style\":\"light\"}}},\"mapbox\":{\"domain\":{\"x\":[0.0,1.0],\"y\":[0.0,1.0]},\"center\":{\"lat\":19.998162172042992,\"lon\":22.19595456630824},\"zoom\":10,\"style\":\"carto-darkmatter\",\"layers\":[{\"coordinates\":[[-177.93840925,-71.8780716],[177.88690925,-71.8780716],[177.88690925,71.63507159999999],[-177.93840925,71.63507159999999]],\"source\":\"data:image/png;base64,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\",\"sourcetype\":\"image\"}]},\"legend\":{\"tracegroupgap\":0},\"margin\":{\"t\":60}},                        {\"responsive\": true}                    ).then(function(){\n",
       "                            \n",
       "var gd = document.getElementById('51cc05cb-f655-4ca1-b930-9e0457db2211');\n",
       "var x = new MutationObserver(function (mutations, observer) {{\n",
       "        var display = window.getComputedStyle(gd).display;\n",
       "        if (!display || display === 'none') {{\n",
       "            console.log([gd, 'removed!']);\n",
       "            Plotly.purge(gd);\n",
       "            observer.disconnect();\n",
       "        }}\n",
       "}});\n",
       "\n",
       "// Listen for the removal of the full notebook cells\n",
       "var notebookContainer = gd.closest('#notebook-container');\n",
       "if (notebookContainer) {{\n",
       "    x.observe(notebookContainer, {childList: true});\n",
       "}}\n",
       "\n",
       "// Listen for the clearing of the current output cell\n",
       "var outputEl = gd.closest('.output');\n",
       "if (outputEl) {{\n",
       "    x.observe(outputEl, {childList: true});\n",
       "}}\n",
       "\n",
       "                        })                };                });            </script>        </div>"
      ]
     },
     "metadata": {},
     "output_type": "display_data"
    }
   ],
   "source": [
    "fig.update_layout(mapbox_style='carto-darkmatter',\n",
    "                 mapbox_layers=[\n",
    "                     {\n",
    "                         'sourcetype':'image',\n",
    "                         'source':img,\n",
    "                         'coordinates':coordinates\n",
    "                     }\n",
    "                 ])\n",
    "fig.show()"
   ]
  },
  {
   "cell_type": "code",
   "execution_count": 41,
   "id": "ef9bee22",
   "metadata": {},
   "outputs": [
    {
     "data": {
      "image/png": "[encoded data removed]",
      "text/html": [
       "<img style=\"margin: auto; border:1px solid\" src='data:image/png;base64,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'/>"
      ],
      "text/plain": [
       "<xarray.Image (Lat: 400, Long: 400)>\n",
       "array([[0, 0, 0, ..., 0, 0, 0],\n",
       "       [0, 0, 0, ..., 0, 0, 0],\n",
       "       [0, 0, 0, ..., 0, 0, 0],\n",
       "       ...,\n",
       "       [0, 0, 0, ..., 0, 0, 0],\n",
       "       [0, 0, 0, ..., 0, 0, 0],\n",
       "       [0, 0, 0, ..., 0, 0, 0]], dtype=uint32)\n",
       "Coordinates:\n",
       "  * Long     (Long) float64 -177.7 -176.8 -175.9 -175.0 ... 175.8 176.7 177.6\n",
       "  * Lat      (Lat) float64 -71.77 -71.41 -71.05 -70.69 ... 70.81 71.17 71.53"
      ]
     },
     "execution_count": 41,
     "metadata": {},
     "output_type": "execute_result"
    }
   ],
   "source": [
    "x_range = (dff['Long'].min(), dff['Long'].max())\n",
    "y_range = (dff['Lat'].min(), dff['Lat'].max())\n",
    "\n",
    "cvs = ds.Canvas(plot_width=400, plot_height=400, x_range=x_range, y_range=y_range)\n",
    "agg = cvs.points(dff, 'Long', 'Lat', ds.sum('Confirmed'))\n",
    "tf.shade(agg, cmap=cc.fire)\n",
    "\n",
    "\n"
   ]
  },
  {
   "cell_type": "code",
   "execution_count": null,
   "id": "09a494e8",
   "metadata": {},
   "outputs": [],
   "source": []
  }
 ],
 "metadata": {
  "kernelspec": {
   "display_name": "Python 3 (ipykernel)",
   "language": "python",
   "name": "python3"
  },
  "language_info": {
   "codemirror_mode": {
    "name": "ipython",
    "version": 3
   },
   "file_extension": ".py",
   "mimetype": "text/x-python",
   "name": "python",
   "nbconvert_exporter": "python",
   "pygments_lexer": "ipython3",
   "version": "3.9.13"
  }
 },
 "nbformat": 4,
 "nbformat_minor": 5
}
